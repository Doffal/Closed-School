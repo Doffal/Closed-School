{
 "cells": [
  {
   "cell_type": "code",
   "execution_count": 1,
   "id": "2de7aeb5",
   "metadata": {},
   "outputs": [],
   "source": [
    "import pandas as pd\n",
    "import numpy as np\n",
    "from matplotlib import pyplot as plt\n",
    "import os\n",
    "import re"
   ]
  },
  {
   "cell_type": "code",
   "execution_count": 3,
   "id": "9deaee3f",
   "metadata": {},
   "outputs": [],
   "source": [
    "#각 지역마다 필요한 열만 추출\n",
    "\n",
    "path = './files/'\n",
    "files = os.listdir(path)\n",
    "\n",
    "cs = pd.DataFrame()\n",
    "\n",
    "for file in files:\n",
    "    data = pd.read_excel(path + file, usecols ='A,C,E')\n",
    "    cs = pd.concat([cs,data])\n",
    "    \n",
    "cs_total = cs.reset_index(drop = True)"
   ]
  },
  {
   "cell_type": "code",
   "execution_count": 4,
   "id": "73b23b84",
   "metadata": {},
   "outputs": [
    {
     "data": {
      "text/plain": [
       "시도교육청    0\n",
       "폐교년도     0\n",
       "급별       0\n",
       "dtype: int64"
      ]
     },
     "execution_count": 4,
     "metadata": {},
     "output_type": "execute_result"
    }
   ],
   "source": [
    "#결측값 확인\n",
    "cs_total.isna().sum()"
   ]
  },
  {
   "cell_type": "code",
   "execution_count": 5,
   "id": "e2c2de3a",
   "metadata": {},
   "outputs": [],
   "source": [
    "#nan 결측치 대체 (~초등 / ~중등 / ~고등)\n",
    "\n",
    "for i in range(len(cs_total)):\n",
    "    if cs_total['급별'].isna()[i] == True:\n",
    "        \n",
    "        if \"초등\" in cs_total['폐교명'][i]:\n",
    "            cs_total['급별'].values[i] = '초'\n",
    "            \n",
    "        elif \"중등\" in cs_total['폐교명'][i] == True:\n",
    "            cs_total['급별'].values[i] = '중'\n",
    "            \n",
    "        elif \"고등\" in cs_total['폐교명'][i] == True:\n",
    "            cs_total['급별'].values[i] = '고'"
   ]
  },
  {
   "cell_type": "code",
   "execution_count": 6,
   "id": "c25371fb",
   "metadata": {},
   "outputs": [],
   "source": [
    "#nan 결측치 대체 (~초 / ~중 / ~고)\n",
    "\n",
    "for i in range(len(cs_total)):\n",
    "    if cs_total['급별'].isna()[i] == True:\n",
    "        \n",
    "        str = cs_total[\"폐교명\"][i]\n",
    "        print(str)\n",
    "        \n",
    "        if str[-1] == \"초\":\n",
    "            cs_total['급별'].values[i] = '초'\n",
    "            \n",
    "        elif str[-1] == '중':\n",
    "            cs_total['급별'].values[i] = '중'\n",
    "            \n",
    "        elif str[-1] == '고':\n",
    "            cs_total['급별'].values[i] = '고'"
   ]
  },
  {
   "cell_type": "code",
   "execution_count": 7,
   "id": "a195ba42",
   "metadata": {},
   "outputs": [
    {
     "data": {
      "text/html": [
       "<div>\n",
       "<style scoped>\n",
       "    .dataframe tbody tr th:only-of-type {\n",
       "        vertical-align: middle;\n",
       "    }\n",
       "\n",
       "    .dataframe tbody tr th {\n",
       "        vertical-align: top;\n",
       "    }\n",
       "\n",
       "    .dataframe thead th {\n",
       "        text-align: right;\n",
       "    }\n",
       "</style>\n",
       "<table border=\"1\" class=\"dataframe\">\n",
       "  <thead>\n",
       "    <tr style=\"text-align: right;\">\n",
       "      <th></th>\n",
       "      <th>시도교육청</th>\n",
       "      <th>폐교년도</th>\n",
       "      <th>급별</th>\n",
       "    </tr>\n",
       "  </thead>\n",
       "  <tbody>\n",
       "    <tr>\n",
       "      <th>0</th>\n",
       "      <td>부산</td>\n",
       "      <td>2009</td>\n",
       "      <td>중</td>\n",
       "    </tr>\n",
       "    <tr>\n",
       "      <th>1</th>\n",
       "      <td>부산</td>\n",
       "      <td>2007</td>\n",
       "      <td>초</td>\n",
       "    </tr>\n",
       "    <tr>\n",
       "      <th>2</th>\n",
       "      <td>부산</td>\n",
       "      <td>2010</td>\n",
       "      <td>고</td>\n",
       "    </tr>\n",
       "    <tr>\n",
       "      <th>3</th>\n",
       "      <td>부산</td>\n",
       "      <td>2016</td>\n",
       "      <td>초</td>\n",
       "    </tr>\n",
       "    <tr>\n",
       "      <th>4</th>\n",
       "      <td>부산</td>\n",
       "      <td>2020</td>\n",
       "      <td>중</td>\n",
       "    </tr>\n",
       "    <tr>\n",
       "      <th>...</th>\n",
       "      <td>...</td>\n",
       "      <td>...</td>\n",
       "      <td>...</td>\n",
       "    </tr>\n",
       "    <tr>\n",
       "      <th>1359</th>\n",
       "      <td>울산</td>\n",
       "      <td>1999</td>\n",
       "      <td>초</td>\n",
       "    </tr>\n",
       "    <tr>\n",
       "      <th>1360</th>\n",
       "      <td>울산</td>\n",
       "      <td>1999</td>\n",
       "      <td>초</td>\n",
       "    </tr>\n",
       "    <tr>\n",
       "      <th>1361</th>\n",
       "      <td>울산</td>\n",
       "      <td>1999</td>\n",
       "      <td>초</td>\n",
       "    </tr>\n",
       "    <tr>\n",
       "      <th>1362</th>\n",
       "      <td>울산</td>\n",
       "      <td>2016</td>\n",
       "      <td>초</td>\n",
       "    </tr>\n",
       "    <tr>\n",
       "      <th>1363</th>\n",
       "      <td>울산</td>\n",
       "      <td>2020</td>\n",
       "      <td>초</td>\n",
       "    </tr>\n",
       "  </tbody>\n",
       "</table>\n",
       "<p>1364 rows × 3 columns</p>\n",
       "</div>"
      ],
      "text/plain": [
       "     시도교육청  폐교년도 급별\n",
       "0       부산  2009  중\n",
       "1       부산  2007  초\n",
       "2       부산  2010  고\n",
       "3       부산  2016  초\n",
       "4       부산  2020  중\n",
       "...    ...   ... ..\n",
       "1359    울산  1999  초\n",
       "1360    울산  1999  초\n",
       "1361    울산  1999  초\n",
       "1362    울산  2016  초\n",
       "1363    울산  2020  초\n",
       "\n",
       "[1364 rows x 3 columns]"
      ]
     },
     "execution_count": 7,
     "metadata": {},
     "output_type": "execute_result"
    }
   ],
   "source": [
    "cs_total"
   ]
  },
  {
   "cell_type": "code",
   "execution_count": null,
   "id": "3b6f23a4",
   "metadata": {},
   "outputs": [],
   "source": [
    "#필요한 Column만 추출한 엑셀파일 저장\n",
    "cs_total.to_excel('./files/cs_total.xlsx',index=False)"
   ]
  },
  {
   "cell_type": "code",
   "execution_count": 8,
   "id": "62929f75",
   "metadata": {},
   "outputs": [],
   "source": [
    "#필요 데이터만 추출\n",
    "cs_close = (cs_total[\"폐교년도\"] >= 2001) & (cs_total[\"폐교년도\"] <= 2020)\n",
    "cs_totals = cs_total[cs_close]"
   ]
  },
  {
   "cell_type": "code",
   "execution_count": 9,
   "id": "9973c7ea",
   "metadata": {},
   "outputs": [
    {
     "name": "stderr",
     "output_type": "stream",
     "text": [
      "C:\\Users\\Doffal\\AppData\\Local\\Temp/ipykernel_20648/809716553.py:2: SettingWithCopyWarning: \n",
      "A value is trying to be set on a copy of a slice from a DataFrame.\n",
      "Try using .loc[row_indexer,col_indexer] = value instead\n",
      "\n",
      "See the caveats in the documentation: https://pandas.pydata.org/pandas-docs/stable/user_guide/indexing.html#returning-a-view-versus-a-copy\n",
      "  cs_totals[\"폐교년도\"] = cs_totals[\"폐교년도\"].astype(\"str\")\n"
     ]
    }
   ],
   "source": [
    "#폐교년도 타입 변경\n",
    "cs_totals[\"폐교년도\"] = cs_totals[\"폐교년도\"].astype(\"str\")"
   ]
  },
  {
   "cell_type": "code",
   "execution_count": 10,
   "id": "78b52395",
   "metadata": {},
   "outputs": [],
   "source": [
    "#인덱스 리셋\n",
    "cs_totals = cs_totals.reset_index(drop =True)"
   ]
  },
  {
   "cell_type": "code",
   "execution_count": 11,
   "id": "0fce6b22",
   "metadata": {},
   "outputs": [
    {
     "data": {
      "text/html": [
       "<div>\n",
       "<style scoped>\n",
       "    .dataframe tbody tr th:only-of-type {\n",
       "        vertical-align: middle;\n",
       "    }\n",
       "\n",
       "    .dataframe tbody tr th {\n",
       "        vertical-align: top;\n",
       "    }\n",
       "\n",
       "    .dataframe thead th {\n",
       "        text-align: right;\n",
       "    }\n",
       "</style>\n",
       "<table border=\"1\" class=\"dataframe\">\n",
       "  <thead>\n",
       "    <tr style=\"text-align: right;\">\n",
       "      <th></th>\n",
       "      <th>시도교육청</th>\n",
       "      <th>폐교년도</th>\n",
       "      <th>급별</th>\n",
       "    </tr>\n",
       "  </thead>\n",
       "  <tbody>\n",
       "    <tr>\n",
       "      <th>0</th>\n",
       "      <td>부산</td>\n",
       "      <td>2009</td>\n",
       "      <td>중</td>\n",
       "    </tr>\n",
       "    <tr>\n",
       "      <th>1</th>\n",
       "      <td>부산</td>\n",
       "      <td>2007</td>\n",
       "      <td>초</td>\n",
       "    </tr>\n",
       "    <tr>\n",
       "      <th>2</th>\n",
       "      <td>부산</td>\n",
       "      <td>2010</td>\n",
       "      <td>고</td>\n",
       "    </tr>\n",
       "    <tr>\n",
       "      <th>3</th>\n",
       "      <td>부산</td>\n",
       "      <td>2016</td>\n",
       "      <td>초</td>\n",
       "    </tr>\n",
       "    <tr>\n",
       "      <th>4</th>\n",
       "      <td>부산</td>\n",
       "      <td>2020</td>\n",
       "      <td>중</td>\n",
       "    </tr>\n",
       "  </tbody>\n",
       "</table>\n",
       "</div>"
      ],
      "text/plain": [
       "  시도교육청  폐교년도 급별\n",
       "0    부산  2009  중\n",
       "1    부산  2007  초\n",
       "2    부산  2010  고\n",
       "3    부산  2016  초\n",
       "4    부산  2020  중"
      ]
     },
     "execution_count": 11,
     "metadata": {},
     "output_type": "execute_result"
    }
   ],
   "source": [
    "cs_totals.head()"
   ]
  },
  {
   "cell_type": "code",
   "execution_count": null,
   "id": "3846be4f",
   "metadata": {},
   "outputs": [],
   "source": [
    "cs_totals.to_excel('./cs_totals.xlsx')"
   ]
  },
  {
   "cell_type": "code",
   "execution_count": null,
   "id": "402bf055",
   "metadata": {},
   "outputs": [],
   "source": []
  },
  {
   "cell_type": "code",
   "execution_count": null,
   "id": "cbc89ec8",
   "metadata": {},
   "outputs": [],
   "source": [
    "cs_all = cs_totals.drop(['급별'], axis = 'columns')"
   ]
  },
  {
   "cell_type": "code",
   "execution_count": null,
   "id": "a3d04bd1",
   "metadata": {},
   "outputs": [],
   "source": [
    "cs_all = cs_all.groupby(('폐교년도'),  as_index =False).count()"
   ]
  },
  {
   "cell_type": "code",
   "execution_count": null,
   "id": "340fe08b",
   "metadata": {},
   "outputs": [],
   "source": [
    "#시각화 \n",
    "cs_all= cs_all.rename(columns = {'시도교육청':'폐교 수'})"
   ]
  },
  {
   "cell_type": "code",
   "execution_count": null,
   "id": "84830c49",
   "metadata": {},
   "outputs": [],
   "source": [
    "#상관분석을 위한 파일 저장\n",
    "cs_all.to_excel('./cs_all.xlsx')"
   ]
  },
  {
   "cell_type": "code",
   "execution_count": null,
   "id": "7f9aea36",
   "metadata": {},
   "outputs": [],
   "source": [
    "#시계열그래프 시각화_1\n",
    "\n",
    "cs_all.plot(figsize = (20, 10), kind = 'line', x ='폐교년도', y ='폐교 수', color ='orange')\n",
    "\n",
    "plt.show()\n",
    "\n",
    "plt.savefig('./closed_school')"
   ]
  },
  {
   "cell_type": "code",
   "execution_count": null,
   "id": "83a7dd68",
   "metadata": {},
   "outputs": [],
   "source": [
    "#시계열그래프 시각화\n",
    "\n",
    "#그래프 크기\n",
    "plt.figure(figsize = (30, 15))\n",
    "\n",
    "#그래프 x 및 y행에 대한 데이터 지정\n",
    "plt.plot(cs_all['폐교년도'], cs_all['폐교 수'], color = 'orange', label='Closed School')\n",
    "\n",
    "#x 눈금레이블 크기\n",
    "plt.xticks(fontsize = 20)\n",
    "\n",
    "#y 눈금레이블 크기\n",
    "plt.yticks(fontsize = 20)\n",
    "\n",
    "#x레이블 제목 크기 \n",
    "plt.xlabel('year', fontsize = 30)\n",
    "\n",
    "#y레이블 제목 크기\n",
    "plt.ylabel('count', fontsize = 30)\n",
    "\n",
    "#그림 제목 크기\n",
    "plt.title('Closed School', fontsize = 30)\n",
    "\n",
    "#범례위치 및 크기 지정\n",
    "plt.legend(loc = 'upper left', fontsize = 15)\n",
    "\n",
    "plt.savefig('./graph_closeschool/Close_School_all')"
   ]
  },
  {
   "cell_type": "markdown",
   "id": "917c1a0e",
   "metadata": {},
   "source": [
    "# 초 중 고등별 폐교데이터"
   ]
  },
  {
   "cell_type": "code",
   "execution_count": 12,
   "id": "9dc0b405",
   "metadata": {},
   "outputs": [],
   "source": [
    "time = ['2001', '2002', '2003', '2004', '2005', \n",
    "        '2006', '2007', '2008', '2009', '2010', \n",
    "        '2011', '2012', '2013', '2014', '2015', \n",
    "        '2016', '2017', '2018', '2019', '2020']"
   ]
  },
  {
   "cell_type": "code",
   "execution_count": 13,
   "id": "6ab7cca2",
   "metadata": {},
   "outputs": [],
   "source": [
    "time_dic = {'폐교년도' : time}"
   ]
  },
  {
   "cell_type": "code",
   "execution_count": 14,
   "id": "1adea4e1",
   "metadata": {},
   "outputs": [],
   "source": [
    "#DataFrame형식 변환\n",
    "time_df = pd.DataFrame(time_dic)"
   ]
  },
  {
   "cell_type": "code",
   "execution_count": 15,
   "id": "450c3c14",
   "metadata": {},
   "outputs": [
    {
     "data": {
      "text/html": [
       "<div>\n",
       "<style scoped>\n",
       "    .dataframe tbody tr th:only-of-type {\n",
       "        vertical-align: middle;\n",
       "    }\n",
       "\n",
       "    .dataframe tbody tr th {\n",
       "        vertical-align: top;\n",
       "    }\n",
       "\n",
       "    .dataframe thead th {\n",
       "        text-align: right;\n",
       "    }\n",
       "</style>\n",
       "<table border=\"1\" class=\"dataframe\">\n",
       "  <thead>\n",
       "    <tr style=\"text-align: right;\">\n",
       "      <th></th>\n",
       "      <th>폐교년도</th>\n",
       "    </tr>\n",
       "  </thead>\n",
       "  <tbody>\n",
       "    <tr>\n",
       "      <th>0</th>\n",
       "      <td>2001</td>\n",
       "    </tr>\n",
       "    <tr>\n",
       "      <th>1</th>\n",
       "      <td>2002</td>\n",
       "    </tr>\n",
       "    <tr>\n",
       "      <th>2</th>\n",
       "      <td>2003</td>\n",
       "    </tr>\n",
       "    <tr>\n",
       "      <th>3</th>\n",
       "      <td>2004</td>\n",
       "    </tr>\n",
       "    <tr>\n",
       "      <th>4</th>\n",
       "      <td>2005</td>\n",
       "    </tr>\n",
       "    <tr>\n",
       "      <th>5</th>\n",
       "      <td>2006</td>\n",
       "    </tr>\n",
       "    <tr>\n",
       "      <th>6</th>\n",
       "      <td>2007</td>\n",
       "    </tr>\n",
       "    <tr>\n",
       "      <th>7</th>\n",
       "      <td>2008</td>\n",
       "    </tr>\n",
       "    <tr>\n",
       "      <th>8</th>\n",
       "      <td>2009</td>\n",
       "    </tr>\n",
       "    <tr>\n",
       "      <th>9</th>\n",
       "      <td>2010</td>\n",
       "    </tr>\n",
       "    <tr>\n",
       "      <th>10</th>\n",
       "      <td>2011</td>\n",
       "    </tr>\n",
       "    <tr>\n",
       "      <th>11</th>\n",
       "      <td>2012</td>\n",
       "    </tr>\n",
       "    <tr>\n",
       "      <th>12</th>\n",
       "      <td>2013</td>\n",
       "    </tr>\n",
       "    <tr>\n",
       "      <th>13</th>\n",
       "      <td>2014</td>\n",
       "    </tr>\n",
       "    <tr>\n",
       "      <th>14</th>\n",
       "      <td>2015</td>\n",
       "    </tr>\n",
       "    <tr>\n",
       "      <th>15</th>\n",
       "      <td>2016</td>\n",
       "    </tr>\n",
       "    <tr>\n",
       "      <th>16</th>\n",
       "      <td>2017</td>\n",
       "    </tr>\n",
       "    <tr>\n",
       "      <th>17</th>\n",
       "      <td>2018</td>\n",
       "    </tr>\n",
       "    <tr>\n",
       "      <th>18</th>\n",
       "      <td>2019</td>\n",
       "    </tr>\n",
       "    <tr>\n",
       "      <th>19</th>\n",
       "      <td>2020</td>\n",
       "    </tr>\n",
       "  </tbody>\n",
       "</table>\n",
       "</div>"
      ],
      "text/plain": [
       "    폐교년도\n",
       "0   2001\n",
       "1   2002\n",
       "2   2003\n",
       "3   2004\n",
       "4   2005\n",
       "5   2006\n",
       "6   2007\n",
       "7   2008\n",
       "8   2009\n",
       "9   2010\n",
       "10  2011\n",
       "11  2012\n",
       "12  2013\n",
       "13  2014\n",
       "14  2015\n",
       "15  2016\n",
       "16  2017\n",
       "17  2018\n",
       "18  2019\n",
       "19  2020"
      ]
     },
     "execution_count": 15,
     "metadata": {},
     "output_type": "execute_result"
    }
   ],
   "source": [
    "time_df"
   ]
  },
  {
   "cell_type": "code",
   "execution_count": 22,
   "id": "9f389de7",
   "metadata": {},
   "outputs": [
    {
     "data": {
      "text/html": [
       "<div>\n",
       "<style scoped>\n",
       "    .dataframe tbody tr th:only-of-type {\n",
       "        vertical-align: middle;\n",
       "    }\n",
       "\n",
       "    .dataframe tbody tr th {\n",
       "        vertical-align: top;\n",
       "    }\n",
       "\n",
       "    .dataframe thead th {\n",
       "        text-align: right;\n",
       "    }\n",
       "</style>\n",
       "<table border=\"1\" class=\"dataframe\">\n",
       "  <thead>\n",
       "    <tr style=\"text-align: right;\">\n",
       "      <th></th>\n",
       "      <th>시도교육청</th>\n",
       "      <th>폐교년도</th>\n",
       "      <th>급별</th>\n",
       "    </tr>\n",
       "  </thead>\n",
       "  <tbody>\n",
       "    <tr>\n",
       "      <th>0</th>\n",
       "      <td>부산</td>\n",
       "      <td>2009</td>\n",
       "      <td>중</td>\n",
       "    </tr>\n",
       "    <tr>\n",
       "      <th>1</th>\n",
       "      <td>부산</td>\n",
       "      <td>2007</td>\n",
       "      <td>초</td>\n",
       "    </tr>\n",
       "    <tr>\n",
       "      <th>2</th>\n",
       "      <td>부산</td>\n",
       "      <td>2010</td>\n",
       "      <td>고</td>\n",
       "    </tr>\n",
       "    <tr>\n",
       "      <th>3</th>\n",
       "      <td>부산</td>\n",
       "      <td>2016</td>\n",
       "      <td>초</td>\n",
       "    </tr>\n",
       "    <tr>\n",
       "      <th>4</th>\n",
       "      <td>부산</td>\n",
       "      <td>2020</td>\n",
       "      <td>중</td>\n",
       "    </tr>\n",
       "  </tbody>\n",
       "</table>\n",
       "</div>"
      ],
      "text/plain": [
       "  시도교육청  폐교년도 급별\n",
       "0    부산  2009  중\n",
       "1    부산  2007  초\n",
       "2    부산  2010  고\n",
       "3    부산  2016  초\n",
       "4    부산  2020  중"
      ]
     },
     "execution_count": 22,
     "metadata": {},
     "output_type": "execute_result"
    }
   ],
   "source": [
    "cs_totals.head()"
   ]
  },
  {
   "cell_type": "code",
   "execution_count": 17,
   "id": "acdce82b",
   "metadata": {},
   "outputs": [],
   "source": [
    "cs_emh = cs_totals.groupby(['폐교년도', '급별'], as_index =False).count()"
   ]
  },
  {
   "cell_type": "code",
   "execution_count": 19,
   "id": "bf04048b",
   "metadata": {},
   "outputs": [
    {
     "data": {
      "text/html": [
       "<div>\n",
       "<style scoped>\n",
       "    .dataframe tbody tr th:only-of-type {\n",
       "        vertical-align: middle;\n",
       "    }\n",
       "\n",
       "    .dataframe tbody tr th {\n",
       "        vertical-align: top;\n",
       "    }\n",
       "\n",
       "    .dataframe thead th {\n",
       "        text-align: right;\n",
       "    }\n",
       "</style>\n",
       "<table border=\"1\" class=\"dataframe\">\n",
       "  <thead>\n",
       "    <tr style=\"text-align: right;\">\n",
       "      <th></th>\n",
       "      <th>폐교년도</th>\n",
       "      <th>급별</th>\n",
       "      <th>시도교육청</th>\n",
       "    </tr>\n",
       "  </thead>\n",
       "  <tbody>\n",
       "    <tr>\n",
       "      <th>0</th>\n",
       "      <td>2001</td>\n",
       "      <td>고</td>\n",
       "      <td>2</td>\n",
       "    </tr>\n",
       "    <tr>\n",
       "      <th>1</th>\n",
       "      <td>2001</td>\n",
       "      <td>중</td>\n",
       "      <td>2</td>\n",
       "    </tr>\n",
       "    <tr>\n",
       "      <th>2</th>\n",
       "      <td>2001</td>\n",
       "      <td>초</td>\n",
       "      <td>24</td>\n",
       "    </tr>\n",
       "    <tr>\n",
       "      <th>3</th>\n",
       "      <td>2002</td>\n",
       "      <td>중</td>\n",
       "      <td>3</td>\n",
       "    </tr>\n",
       "    <tr>\n",
       "      <th>4</th>\n",
       "      <td>2002</td>\n",
       "      <td>초</td>\n",
       "      <td>23</td>\n",
       "    </tr>\n",
       "  </tbody>\n",
       "</table>\n",
       "</div>"
      ],
      "text/plain": [
       "   폐교년도 급별  시도교육청\n",
       "0  2001  고      2\n",
       "1  2001  중      2\n",
       "2  2001  초     24\n",
       "3  2002  중      3\n",
       "4  2002  초     23"
      ]
     },
     "execution_count": 19,
     "metadata": {},
     "output_type": "execute_result"
    }
   ],
   "source": [
    "cs_emh.head()"
   ]
  },
  {
   "cell_type": "code",
   "execution_count": 20,
   "id": "c456ceda",
   "metadata": {},
   "outputs": [],
   "source": [
    "ele = (cs_emh['급별'] == '초')\n",
    "cs_ele = cs_emh[ele]"
   ]
  },
  {
   "cell_type": "code",
   "execution_count": 26,
   "id": "66d1717d",
   "metadata": {},
   "outputs": [
    {
     "data": {
      "text/html": [
       "<div>\n",
       "<style scoped>\n",
       "    .dataframe tbody tr th:only-of-type {\n",
       "        vertical-align: middle;\n",
       "    }\n",
       "\n",
       "    .dataframe tbody tr th {\n",
       "        vertical-align: top;\n",
       "    }\n",
       "\n",
       "    .dataframe thead th {\n",
       "        text-align: right;\n",
       "    }\n",
       "</style>\n",
       "<table border=\"1\" class=\"dataframe\">\n",
       "  <thead>\n",
       "    <tr style=\"text-align: right;\">\n",
       "      <th></th>\n",
       "      <th>폐교년도</th>\n",
       "      <th>급별</th>\n",
       "      <th>시도교육청</th>\n",
       "    </tr>\n",
       "  </thead>\n",
       "  <tbody>\n",
       "    <tr>\n",
       "      <th>2</th>\n",
       "      <td>2001</td>\n",
       "      <td>초</td>\n",
       "      <td>24</td>\n",
       "    </tr>\n",
       "    <tr>\n",
       "      <th>4</th>\n",
       "      <td>2002</td>\n",
       "      <td>초</td>\n",
       "      <td>23</td>\n",
       "    </tr>\n",
       "    <tr>\n",
       "      <th>6</th>\n",
       "      <td>2003</td>\n",
       "      <td>초</td>\n",
       "      <td>9</td>\n",
       "    </tr>\n",
       "    <tr>\n",
       "      <th>9</th>\n",
       "      <td>2004</td>\n",
       "      <td>초</td>\n",
       "      <td>13</td>\n",
       "    </tr>\n",
       "    <tr>\n",
       "      <th>12</th>\n",
       "      <td>2005</td>\n",
       "      <td>초</td>\n",
       "      <td>16</td>\n",
       "    </tr>\n",
       "  </tbody>\n",
       "</table>\n",
       "</div>"
      ],
      "text/plain": [
       "    폐교년도 급별  시도교육청\n",
       "2   2001  초     24\n",
       "4   2002  초     23\n",
       "6   2003  초      9\n",
       "9   2004  초     13\n",
       "12  2005  초     16"
      ]
     },
     "execution_count": 26,
     "metadata": {},
     "output_type": "execute_result"
    }
   ],
   "source": [
    "cs_ele.head()"
   ]
  },
  {
   "cell_type": "code",
   "execution_count": 23,
   "id": "4b7a06f6",
   "metadata": {},
   "outputs": [],
   "source": [
    "#left join\n",
    "cs_ele_1 = pd.merge(time_df, cs_ele, how='left')\n",
    "cs_ele_1 = cs_ele_1.fillna(0)"
   ]
  },
  {
   "cell_type": "code",
   "execution_count": 24,
   "id": "33723dfd",
   "metadata": {},
   "outputs": [],
   "source": [
    "cs_ele_2 = cs_ele_1.drop(['폐교년도' ,'급별'], axis=1)"
   ]
  },
  {
   "cell_type": "code",
   "execution_count": 25,
   "id": "3443b0b0",
   "metadata": {},
   "outputs": [
    {
     "data": {
      "text/html": [
       "<div>\n",
       "<style scoped>\n",
       "    .dataframe tbody tr th:only-of-type {\n",
       "        vertical-align: middle;\n",
       "    }\n",
       "\n",
       "    .dataframe tbody tr th {\n",
       "        vertical-align: top;\n",
       "    }\n",
       "\n",
       "    .dataframe thead th {\n",
       "        text-align: right;\n",
       "    }\n",
       "</style>\n",
       "<table border=\"1\" class=\"dataframe\">\n",
       "  <thead>\n",
       "    <tr style=\"text-align: right;\">\n",
       "      <th></th>\n",
       "      <th>시도교육청</th>\n",
       "    </tr>\n",
       "  </thead>\n",
       "  <tbody>\n",
       "    <tr>\n",
       "      <th>0</th>\n",
       "      <td>24</td>\n",
       "    </tr>\n",
       "    <tr>\n",
       "      <th>1</th>\n",
       "      <td>23</td>\n",
       "    </tr>\n",
       "    <tr>\n",
       "      <th>2</th>\n",
       "      <td>9</td>\n",
       "    </tr>\n",
       "    <tr>\n",
       "      <th>3</th>\n",
       "      <td>13</td>\n",
       "    </tr>\n",
       "    <tr>\n",
       "      <th>4</th>\n",
       "      <td>16</td>\n",
       "    </tr>\n",
       "    <tr>\n",
       "      <th>5</th>\n",
       "      <td>9</td>\n",
       "    </tr>\n",
       "    <tr>\n",
       "      <th>6</th>\n",
       "      <td>38</td>\n",
       "    </tr>\n",
       "    <tr>\n",
       "      <th>7</th>\n",
       "      <td>27</td>\n",
       "    </tr>\n",
       "    <tr>\n",
       "      <th>8</th>\n",
       "      <td>34</td>\n",
       "    </tr>\n",
       "    <tr>\n",
       "      <th>9</th>\n",
       "      <td>25</td>\n",
       "    </tr>\n",
       "    <tr>\n",
       "      <th>10</th>\n",
       "      <td>22</td>\n",
       "    </tr>\n",
       "    <tr>\n",
       "      <th>11</th>\n",
       "      <td>31</td>\n",
       "    </tr>\n",
       "    <tr>\n",
       "      <th>12</th>\n",
       "      <td>27</td>\n",
       "    </tr>\n",
       "    <tr>\n",
       "      <th>13</th>\n",
       "      <td>19</td>\n",
       "    </tr>\n",
       "    <tr>\n",
       "      <th>14</th>\n",
       "      <td>21</td>\n",
       "    </tr>\n",
       "    <tr>\n",
       "      <th>15</th>\n",
       "      <td>19</td>\n",
       "    </tr>\n",
       "    <tr>\n",
       "      <th>16</th>\n",
       "      <td>20</td>\n",
       "    </tr>\n",
       "    <tr>\n",
       "      <th>17</th>\n",
       "      <td>17</td>\n",
       "    </tr>\n",
       "    <tr>\n",
       "      <th>18</th>\n",
       "      <td>27</td>\n",
       "    </tr>\n",
       "    <tr>\n",
       "      <th>19</th>\n",
       "      <td>16</td>\n",
       "    </tr>\n",
       "  </tbody>\n",
       "</table>\n",
       "</div>"
      ],
      "text/plain": [
       "    시도교육청\n",
       "0      24\n",
       "1      23\n",
       "2       9\n",
       "3      13\n",
       "4      16\n",
       "5       9\n",
       "6      38\n",
       "7      27\n",
       "8      34\n",
       "9      25\n",
       "10     22\n",
       "11     31\n",
       "12     27\n",
       "13     19\n",
       "14     21\n",
       "15     19\n",
       "16     20\n",
       "17     17\n",
       "18     27\n",
       "19     16"
      ]
     },
     "execution_count": 25,
     "metadata": {},
     "output_type": "execute_result"
    }
   ],
   "source": [
    "cs_ele_2"
   ]
  },
  {
   "cell_type": "code",
   "execution_count": 28,
   "id": "6c34dbf8",
   "metadata": {},
   "outputs": [],
   "source": [
    "#중학교\n",
    "mid = (cs_emh['급별'] == '중')\n",
    "cs_mid = cs_emh[mid]"
   ]
  },
  {
   "cell_type": "code",
   "execution_count": 29,
   "id": "2bcc7db8",
   "metadata": {},
   "outputs": [],
   "source": [
    "#left join\n",
    "cs_mid_1 = pd.merge(time_df, cs_mid, how='left')\n",
    "cs_mid_1 = cs_mid_1.fillna(0)"
   ]
  },
  {
   "cell_type": "code",
   "execution_count": 30,
   "id": "db7ccac3",
   "metadata": {},
   "outputs": [],
   "source": [
    "cs_mid_2 = cs_mid_1.drop(['폐교년도' ,'급별'], axis=1)"
   ]
  },
  {
   "cell_type": "code",
   "execution_count": null,
   "id": "42b2279b",
   "metadata": {},
   "outputs": [],
   "source": [
    "cs_mid_2"
   ]
  },
  {
   "cell_type": "code",
   "execution_count": 31,
   "id": "d2cb2709",
   "metadata": {},
   "outputs": [],
   "source": [
    "hig = (cs_emh['급별'] == '고')\n",
    "cs_hig = cs_emh[hig]"
   ]
  },
  {
   "cell_type": "code",
   "execution_count": 32,
   "id": "ad81fceb",
   "metadata": {},
   "outputs": [],
   "source": [
    "#left join\n",
    "cs_hig_1 = pd.merge(time_df, cs_hig, how='left')\n",
    "cs_hig_1 = cs_hig_1.fillna(0)"
   ]
  },
  {
   "cell_type": "code",
   "execution_count": 33,
   "id": "82215c81",
   "metadata": {},
   "outputs": [],
   "source": [
    "cs_hig_2 = cs_hig_1.drop(['폐교년도' ,'급별'], axis=1)"
   ]
  },
  {
   "cell_type": "code",
   "execution_count": 34,
   "id": "d710f056",
   "metadata": {},
   "outputs": [],
   "source": [
    "cs_all_emh = pd.concat([time_df, cs_ele_2, cs_mid_2, cs_hig_2], axis=1)"
   ]
  },
  {
   "cell_type": "code",
   "execution_count": 35,
   "id": "f231d38d",
   "metadata": {},
   "outputs": [],
   "source": [
    "cs_all_emh.columns = ['year', 'elementary', 'middle', 'high']"
   ]
  },
  {
   "cell_type": "code",
   "execution_count": 37,
   "id": "1a4d9242",
   "metadata": {},
   "outputs": [],
   "source": [
    "cs_all_emh['all'] = cs_all_emh['elementary'] + cs_all_emh['middle'] + cs_all_emh['high']"
   ]
  },
  {
   "cell_type": "code",
   "execution_count": 39,
   "id": "4014e8b1",
   "metadata": {},
   "outputs": [
    {
     "data": {
      "text/html": [
       "<div>\n",
       "<style scoped>\n",
       "    .dataframe tbody tr th:only-of-type {\n",
       "        vertical-align: middle;\n",
       "    }\n",
       "\n",
       "    .dataframe tbody tr th {\n",
       "        vertical-align: top;\n",
       "    }\n",
       "\n",
       "    .dataframe thead th {\n",
       "        text-align: right;\n",
       "    }\n",
       "</style>\n",
       "<table border=\"1\" class=\"dataframe\">\n",
       "  <thead>\n",
       "    <tr style=\"text-align: right;\">\n",
       "      <th></th>\n",
       "      <th>year</th>\n",
       "      <th>elementary</th>\n",
       "      <th>middle</th>\n",
       "      <th>high</th>\n",
       "      <th>all</th>\n",
       "    </tr>\n",
       "  </thead>\n",
       "  <tbody>\n",
       "    <tr>\n",
       "      <th>0</th>\n",
       "      <td>2001</td>\n",
       "      <td>24</td>\n",
       "      <td>2.0</td>\n",
       "      <td>2.0</td>\n",
       "      <td>28.0</td>\n",
       "    </tr>\n",
       "    <tr>\n",
       "      <th>1</th>\n",
       "      <td>2002</td>\n",
       "      <td>23</td>\n",
       "      <td>3.0</td>\n",
       "      <td>0.0</td>\n",
       "      <td>26.0</td>\n",
       "    </tr>\n",
       "    <tr>\n",
       "      <th>2</th>\n",
       "      <td>2003</td>\n",
       "      <td>9</td>\n",
       "      <td>0.0</td>\n",
       "      <td>1.0</td>\n",
       "      <td>10.0</td>\n",
       "    </tr>\n",
       "    <tr>\n",
       "      <th>3</th>\n",
       "      <td>2004</td>\n",
       "      <td>13</td>\n",
       "      <td>2.0</td>\n",
       "      <td>1.0</td>\n",
       "      <td>16.0</td>\n",
       "    </tr>\n",
       "    <tr>\n",
       "      <th>4</th>\n",
       "      <td>2005</td>\n",
       "      <td>16</td>\n",
       "      <td>4.0</td>\n",
       "      <td>1.0</td>\n",
       "      <td>21.0</td>\n",
       "    </tr>\n",
       "  </tbody>\n",
       "</table>\n",
       "</div>"
      ],
      "text/plain": [
       "   year  elementary  middle  high   all\n",
       "0  2001          24     2.0   2.0  28.0\n",
       "1  2002          23     3.0   0.0  26.0\n",
       "2  2003           9     0.0   1.0  10.0\n",
       "3  2004          13     2.0   1.0  16.0\n",
       "4  2005          16     4.0   1.0  21.0"
      ]
     },
     "execution_count": 39,
     "metadata": {},
     "output_type": "execute_result"
    }
   ],
   "source": [
    "cs_all_emh.head()"
   ]
  },
  {
   "cell_type": "code",
   "execution_count": null,
   "id": "01f0b610",
   "metadata": {},
   "outputs": [],
   "source": [
    "cs_all_emh.to_excel('./cs_all_emh.xlsx')"
   ]
  }
 ],
 "metadata": {
  "kernelspec": {
   "display_name": "kword",
   "language": "python",
   "name": "kword"
  },
  "language_info": {
   "codemirror_mode": {
    "name": "ipython",
    "version": 3
   },
   "file_extension": ".py",
   "mimetype": "text/x-python",
   "name": "python",
   "nbconvert_exporter": "python",
   "pygments_lexer": "ipython3",
   "version": "3.9.7"
  }
 },
 "nbformat": 4,
 "nbformat_minor": 5
}
