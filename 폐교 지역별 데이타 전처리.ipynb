{
 "cells": [
  {
   "cell_type": "code",
   "execution_count": 1,
   "id": "2de7aeb5",
   "metadata": {},
   "outputs": [],
   "source": [
    "import pandas as pd\n",
    "import numpy as np\n",
    "from matplotlib import pyplot as plt\n",
    "import os\n",
    "import re"
   ]
  },
  {
   "cell_type": "code",
   "execution_count": 2,
   "id": "9deaee3f",
   "metadata": {},
   "outputs": [],
   "source": [
    "#각 지역마다 필요한 열만 추출\n",
    "\n",
    "path = './files/'\n",
    "files = os.listdir(path)\n",
    "\n",
    "cs = pd.DataFrame()\n",
    "\n",
    "for file in files:\n",
    "    data = pd.read_excel(path + file, usecols ='A,C,E')\n",
    "    cs = pd.concat([cs,data])\n",
    "    \n",
    "cs_total = cs.reset_index(drop = True)"
   ]
  },
  {
   "cell_type": "code",
   "execution_count": 3,
   "id": "73b23b84",
   "metadata": {},
   "outputs": [
    {
     "data": {
      "text/plain": [
       "시도교육청    0\n",
       "폐교년도     0\n",
       "급별       0\n",
       "dtype: int64"
      ]
     },
     "execution_count": 3,
     "metadata": {},
     "output_type": "execute_result"
    }
   ],
   "source": [
    "#결측값 확인\n",
    "cs_total.isna().sum()"
   ]
  },
  {
   "cell_type": "code",
   "execution_count": 4,
   "id": "e2c2de3a",
   "metadata": {},
   "outputs": [],
   "source": [
    "#nan 결측치 대체 (~초등 / ~중등 / ~고등)\n",
    "\n",
    "for i in range(len(cs_total)):\n",
    "    if cs_total['급별'].isna()[i] == True:\n",
    "        \n",
    "        if \"초등\" in cs_total['폐교명'][i]:\n",
    "            cs_total['급별'].values[i] = '초'\n",
    "            \n",
    "        elif \"중등\" in cs_total['폐교명'][i] == True:\n",
    "            cs_total['급별'].values[i] = '중'\n",
    "            \n",
    "        elif \"고등\" in cs_total['폐교명'][i] == True:\n",
    "            cs_total['급별'].values[i] = '고'"
   ]
  },
  {
   "cell_type": "code",
   "execution_count": 5,
   "id": "c25371fb",
   "metadata": {},
   "outputs": [],
   "source": [
    "#nan 결측치 대체 (~초 / ~중 / ~고)\n",
    "\n",
    "for i in range(len(cs_total)):\n",
    "    if cs_total['급별'].isna()[i] == True:\n",
    "        \n",
    "        str = cs_total[\"폐교명\"][i]\n",
    "        print(str)\n",
    "        \n",
    "        if str[-1] == \"초\":\n",
    "            cs_total['급별'].values[i] = '초'\n",
    "            \n",
    "        elif str[-1] == '중':\n",
    "            cs_total['급별'].values[i] = '중'\n",
    "            \n",
    "        elif str[-1] == '고':\n",
    "            cs_total['급별'].values[i] = '고'"
   ]
  },
  {
   "cell_type": "code",
   "execution_count": 6,
   "id": "62929f75",
   "metadata": {},
   "outputs": [],
   "source": [
    "#필요 데이터만 추출\n",
    "cs_close = (cs_total[\"폐교년도\"] >= 2001) & (cs_total[\"폐교년도\"] <= 2020)\n",
    "cs_totals = cs_total[cs_close]"
   ]
  },
  {
   "cell_type": "code",
   "execution_count": 7,
   "id": "9973c7ea",
   "metadata": {},
   "outputs": [
    {
     "name": "stderr",
     "output_type": "stream",
     "text": [
      "C:\\Users\\Doffal\\AppData\\Local\\Temp/ipykernel_38212/809716553.py:2: SettingWithCopyWarning: \n",
      "A value is trying to be set on a copy of a slice from a DataFrame.\n",
      "Try using .loc[row_indexer,col_indexer] = value instead\n",
      "\n",
      "See the caveats in the documentation: https://pandas.pydata.org/pandas-docs/stable/user_guide/indexing.html#returning-a-view-versus-a-copy\n",
      "  cs_totals[\"폐교년도\"] = cs_totals[\"폐교년도\"].astype(\"str\")\n"
     ]
    }
   ],
   "source": [
    "#폐교년도 타입 변경\n",
    "cs_totals[\"폐교년도\"] = cs_totals[\"폐교년도\"].astype(\"str\")"
   ]
  },
  {
   "cell_type": "code",
   "execution_count": 8,
   "id": "78b52395",
   "metadata": {},
   "outputs": [],
   "source": [
    "#인덱스 리셋\n",
    "cs_totals = cs_totals.reset_index(drop =True)"
   ]
  },
  {
   "cell_type": "code",
   "execution_count": 9,
   "id": "3846be4f",
   "metadata": {},
   "outputs": [],
   "source": [
    "#분석하기 위한 파일 저장\n",
    "cs_totals.to_excel('./cs_totals.xlsx')"
   ]
  },
  {
   "cell_type": "markdown",
   "id": "917c1a0e",
   "metadata": {},
   "source": [
    "# 초 중 고등별 폐교데이터"
   ]
  },
  {
   "cell_type": "code",
   "execution_count": 10,
   "id": "9dc0b405",
   "metadata": {},
   "outputs": [],
   "source": [
    "time = ['2001', '2002', '2003', '2004', '2005', \n",
    "        '2006', '2007', '2008', '2009', '2010', \n",
    "        '2011', '2012', '2013', '2014', '2015', \n",
    "        '2016', '2017', '2018', '2019', '2020']"
   ]
  },
  {
   "cell_type": "code",
   "execution_count": 11,
   "id": "6ab7cca2",
   "metadata": {},
   "outputs": [],
   "source": [
    "time_dic = {'폐교년도' : time}"
   ]
  },
  {
   "cell_type": "code",
   "execution_count": 12,
   "id": "1adea4e1",
   "metadata": {},
   "outputs": [],
   "source": [
    "#DataFrame형식 변환\n",
    "time_df = pd.DataFrame(time_dic)"
   ]
  },
  {
   "cell_type": "code",
   "execution_count": 13,
   "id": "acdce82b",
   "metadata": {},
   "outputs": [],
   "source": [
    "cs_emh = cs_totals.groupby(['폐교년도', '급별'], as_index =False).count()"
   ]
  },
  {
   "cell_type": "code",
   "execution_count": 14,
   "id": "c456ceda",
   "metadata": {},
   "outputs": [],
   "source": [
    "ele = (cs_emh['급별'] == '초')\n",
    "cs_ele = cs_emh[ele]"
   ]
  },
  {
   "cell_type": "code",
   "execution_count": 15,
   "id": "4b7a06f6",
   "metadata": {},
   "outputs": [],
   "source": [
    "#left join\n",
    "cs_ele_1 = pd.merge(time_df, cs_ele, how='left')\n",
    "cs_ele_1 = cs_ele_1.fillna(0)"
   ]
  },
  {
   "cell_type": "code",
   "execution_count": 16,
   "id": "33723dfd",
   "metadata": {},
   "outputs": [],
   "source": [
    "cs_ele_2 = cs_ele_1.drop(['폐교년도' ,'급별'], axis=1)"
   ]
  },
  {
   "cell_type": "code",
   "execution_count": 17,
   "id": "6c34dbf8",
   "metadata": {},
   "outputs": [],
   "source": [
    "#중학교\n",
    "mid = (cs_emh['급별'] == '중')\n",
    "cs_mid = cs_emh[mid]"
   ]
  },
  {
   "cell_type": "code",
   "execution_count": 18,
   "id": "2bcc7db8",
   "metadata": {},
   "outputs": [],
   "source": [
    "#left join\n",
    "cs_mid_1 = pd.merge(time_df, cs_mid, how='left')\n",
    "cs_mid_1 = cs_mid_1.fillna(0)"
   ]
  },
  {
   "cell_type": "code",
   "execution_count": 19,
   "id": "db7ccac3",
   "metadata": {},
   "outputs": [],
   "source": [
    "cs_mid_2 = cs_mid_1.drop(['폐교년도' ,'급별'], axis=1)"
   ]
  },
  {
   "cell_type": "code",
   "execution_count": 20,
   "id": "d2cb2709",
   "metadata": {},
   "outputs": [],
   "source": [
    "hig = (cs_emh['급별'] == '고')\n",
    "cs_hig = cs_emh[hig]"
   ]
  },
  {
   "cell_type": "code",
   "execution_count": 21,
   "id": "ad81fceb",
   "metadata": {},
   "outputs": [],
   "source": [
    "#left join\n",
    "cs_hig_1 = pd.merge(time_df, cs_hig, how='left')\n",
    "cs_hig_1 = cs_hig_1.fillna(0)"
   ]
  },
  {
   "cell_type": "code",
   "execution_count": 22,
   "id": "82215c81",
   "metadata": {},
   "outputs": [],
   "source": [
    "cs_hig_2 = cs_hig_1.drop(['폐교년도' ,'급별'], axis=1)"
   ]
  },
  {
   "cell_type": "code",
   "execution_count": 23,
   "id": "d710f056",
   "metadata": {},
   "outputs": [],
   "source": [
    "cs_all_emh = pd.concat([time_df, cs_ele_2, cs_mid_2, cs_hig_2], axis=1)"
   ]
  },
  {
   "cell_type": "code",
   "execution_count": 24,
   "id": "f231d38d",
   "metadata": {},
   "outputs": [],
   "source": [
    "cs_all_emh.columns = ['year', 'elementary', 'middle', 'high']"
   ]
  },
  {
   "cell_type": "code",
   "execution_count": 25,
   "id": "1a4d9242",
   "metadata": {},
   "outputs": [],
   "source": [
    "cs_all_emh['all'] = cs_all_emh['elementary'] + cs_all_emh['middle'] + cs_all_emh['high']"
   ]
  }
 ],
 "metadata": {
  "kernelspec": {
   "display_name": "kword",
   "language": "python",
   "name": "kword"
  },
  "language_info": {
   "codemirror_mode": {
    "name": "ipython",
    "version": 3
   },
   "file_extension": ".py",
   "mimetype": "text/x-python",
   "name": "python",
   "nbconvert_exporter": "python",
   "pygments_lexer": "ipython3",
   "version": "3.9.7"
  }
 },
 "nbformat": 4,
 "nbformat_minor": 5
}
