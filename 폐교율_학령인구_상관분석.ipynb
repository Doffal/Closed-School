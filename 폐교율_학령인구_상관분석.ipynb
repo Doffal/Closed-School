{
 "cells": [
  {
   "cell_type": "code",
   "execution_count": 1,
   "id": "00e2396e",
   "metadata": {},
   "outputs": [],
   "source": [
    "import pandas as pd\n",
    "from matplotlib import pyplot as plt\n",
    "import seaborn as sns"
   ]
  },
  {
   "cell_type": "code",
   "execution_count": 2,
   "id": "7b007f80",
   "metadata": {},
   "outputs": [],
   "source": [
    "#폐교율 데이터 불러오기\n",
    "cs_all = pd.read_excel('./cs_all.xlsx', index_col =0)\n",
    "#학령인구 데이터 불러오기\n",
    "region_all = pd.read_excel('./region_all.xlsx', index_col =0)"
   ]
  },
  {
   "cell_type": "code",
   "execution_count": 3,
   "id": "96b8a75b",
   "metadata": {},
   "outputs": [],
   "source": [
    "#필요없는 컬럼 제거 (폐교율)\n",
    "cs_all = cs_all.drop(['폐교년도'], axis =1)"
   ]
  },
  {
   "cell_type": "code",
   "execution_count": 4,
   "id": "f474d3d9",
   "metadata": {},
   "outputs": [],
   "source": [
    "#컬럼명 변경\n",
    "cs_all = cs_all.rename(columns={'폐교 수' : 'Closed School'})"
   ]
  },
  {
   "cell_type": "code",
   "execution_count": 5,
   "id": "33333f49",
   "metadata": {},
   "outputs": [],
   "source": [
    "#필요없는 컬럼 제거 (학령인구)\n",
    "region_all = region_all.drop(['시점'], axis =1)"
   ]
  },
  {
   "cell_type": "code",
   "execution_count": 6,
   "id": "1c4dca49",
   "metadata": {},
   "outputs": [],
   "source": [
    "#시점 동일 (2001 ~ 2020)\n",
    "region_all = region_all.iloc[0:20]"
   ]
  },
  {
   "cell_type": "code",
   "execution_count": 7,
   "id": "b8d1de2e",
   "metadata": {},
   "outputs": [],
   "source": [
    "#컬럼명 변경\n",
    "region_all = region_all.rename(columns={'ele' : 'Elementary', 'mid' : 'Middle', 'hig' : 'High', 'all' : 'All'})"
   ]
  },
  {
   "cell_type": "code",
   "execution_count": 8,
   "id": "8c0bef0b",
   "metadata": {},
   "outputs": [
    {
     "data": {
      "text/html": [
       "<div>\n",
       "<style scoped>\n",
       "    .dataframe tbody tr th:only-of-type {\n",
       "        vertical-align: middle;\n",
       "    }\n",
       "\n",
       "    .dataframe tbody tr th {\n",
       "        vertical-align: top;\n",
       "    }\n",
       "\n",
       "    .dataframe thead th {\n",
       "        text-align: right;\n",
       "    }\n",
       "</style>\n",
       "<table border=\"1\" class=\"dataframe\">\n",
       "  <thead>\n",
       "    <tr style=\"text-align: right;\">\n",
       "      <th></th>\n",
       "      <th>Elementary</th>\n",
       "      <th>Middle</th>\n",
       "      <th>High</th>\n",
       "      <th>All</th>\n",
       "    </tr>\n",
       "  </thead>\n",
       "  <tbody>\n",
       "    <tr>\n",
       "      <th>0</th>\n",
       "      <td>4150</td>\n",
       "      <td>1847</td>\n",
       "      <td>2014</td>\n",
       "      <td>8011</td>\n",
       "    </tr>\n",
       "    <tr>\n",
       "      <th>1</th>\n",
       "      <td>4192</td>\n",
       "      <td>1863</td>\n",
       "      <td>1902</td>\n",
       "      <td>7957</td>\n",
       "    </tr>\n",
       "    <tr>\n",
       "      <th>2</th>\n",
       "      <td>4186</td>\n",
       "      <td>1913</td>\n",
       "      <td>1846</td>\n",
       "      <td>7945</td>\n",
       "    </tr>\n",
       "    <tr>\n",
       "      <th>3</th>\n",
       "      <td>4118</td>\n",
       "      <td>1993</td>\n",
       "      <td>1824</td>\n",
       "      <td>7935</td>\n",
       "    </tr>\n",
       "    <tr>\n",
       "      <th>4</th>\n",
       "      <td>4018</td>\n",
       "      <td>2064</td>\n",
       "      <td>1841</td>\n",
       "      <td>7923</td>\n",
       "    </tr>\n",
       "    <tr>\n",
       "      <th>5</th>\n",
       "      <td>3919</td>\n",
       "      <td>2104</td>\n",
       "      <td>1888</td>\n",
       "      <td>7911</td>\n",
       "    </tr>\n",
       "    <tr>\n",
       "      <th>6</th>\n",
       "      <td>3808</td>\n",
       "      <td>2095</td>\n",
       "      <td>1966</td>\n",
       "      <td>7869</td>\n",
       "    </tr>\n",
       "    <tr>\n",
       "      <th>7</th>\n",
       "      <td>3631</td>\n",
       "      <td>2070</td>\n",
       "      <td>2039</td>\n",
       "      <td>7740</td>\n",
       "    </tr>\n",
       "    <tr>\n",
       "      <th>8</th>\n",
       "      <td>3446</td>\n",
       "      <td>2034</td>\n",
       "      <td>2089</td>\n",
       "      <td>7569</td>\n",
       "    </tr>\n",
       "    <tr>\n",
       "      <th>9</th>\n",
       "      <td>3280</td>\n",
       "      <td>1985</td>\n",
       "      <td>2084</td>\n",
       "      <td>7349</td>\n",
       "    </tr>\n",
       "    <tr>\n",
       "      <th>10</th>\n",
       "      <td>3109</td>\n",
       "      <td>1914</td>\n",
       "      <td>2062</td>\n",
       "      <td>7085</td>\n",
       "    </tr>\n",
       "    <tr>\n",
       "      <th>11</th>\n",
       "      <td>2926</td>\n",
       "      <td>1867</td>\n",
       "      <td>2028</td>\n",
       "      <td>6821</td>\n",
       "    </tr>\n",
       "    <tr>\n",
       "      <th>12</th>\n",
       "      <td>2783</td>\n",
       "      <td>1818</td>\n",
       "      <td>1985</td>\n",
       "      <td>6586</td>\n",
       "    </tr>\n",
       "    <tr>\n",
       "      <th>13</th>\n",
       "      <td>2751</td>\n",
       "      <td>1719</td>\n",
       "      <td>1912</td>\n",
       "      <td>6382</td>\n",
       "    </tr>\n",
       "    <tr>\n",
       "      <th>14</th>\n",
       "      <td>2720</td>\n",
       "      <td>1578</td>\n",
       "      <td>1868</td>\n",
       "      <td>6166</td>\n",
       "    </tr>\n",
       "    <tr>\n",
       "      <th>15</th>\n",
       "      <td>2688</td>\n",
       "      <td>1458</td>\n",
       "      <td>1816</td>\n",
       "      <td>5962</td>\n",
       "    </tr>\n",
       "    <tr>\n",
       "      <th>16</th>\n",
       "      <td>2719</td>\n",
       "      <td>1385</td>\n",
       "      <td>1715</td>\n",
       "      <td>5819</td>\n",
       "    </tr>\n",
       "    <tr>\n",
       "      <th>17</th>\n",
       "      <td>2757</td>\n",
       "      <td>1340</td>\n",
       "      <td>1574</td>\n",
       "      <td>5671</td>\n",
       "    </tr>\n",
       "    <tr>\n",
       "      <th>18</th>\n",
       "      <td>2765</td>\n",
       "      <td>1318</td>\n",
       "      <td>1454</td>\n",
       "      <td>5537</td>\n",
       "    </tr>\n",
       "    <tr>\n",
       "      <th>19</th>\n",
       "      <td>2717</td>\n",
       "      <td>1358</td>\n",
       "      <td>1382</td>\n",
       "      <td>5457</td>\n",
       "    </tr>\n",
       "  </tbody>\n",
       "</table>\n",
       "</div>"
      ],
      "text/plain": [
       "    Elementary  Middle  High   All\n",
       "0         4150    1847  2014  8011\n",
       "1         4192    1863  1902  7957\n",
       "2         4186    1913  1846  7945\n",
       "3         4118    1993  1824  7935\n",
       "4         4018    2064  1841  7923\n",
       "5         3919    2104  1888  7911\n",
       "6         3808    2095  1966  7869\n",
       "7         3631    2070  2039  7740\n",
       "8         3446    2034  2089  7569\n",
       "9         3280    1985  2084  7349\n",
       "10        3109    1914  2062  7085\n",
       "11        2926    1867  2028  6821\n",
       "12        2783    1818  1985  6586\n",
       "13        2751    1719  1912  6382\n",
       "14        2720    1578  1868  6166\n",
       "15        2688    1458  1816  5962\n",
       "16        2719    1385  1715  5819\n",
       "17        2757    1340  1574  5671\n",
       "18        2765    1318  1454  5537\n",
       "19        2717    1358  1382  5457"
      ]
     },
     "execution_count": 8,
     "metadata": {},
     "output_type": "execute_result"
    }
   ],
   "source": [
    "region_all"
   ]
  },
  {
   "cell_type": "markdown",
   "id": "8caa0df5",
   "metadata": {},
   "source": [
    "## 2001 ~ 2020 상관관계"
   ]
  },
  {
   "cell_type": "code",
   "execution_count": 9,
   "id": "f17796ac",
   "metadata": {},
   "outputs": [],
   "source": [
    "#일부 데이터 결합\n",
    "corr_20012020 = pd.concat([region_all, cs_all], axis =1)"
   ]
  },
  {
   "cell_type": "code",
   "execution_count": 10,
   "id": "16c67c38",
   "metadata": {},
   "outputs": [
    {
     "data": {
      "text/html": [
       "<div>\n",
       "<style scoped>\n",
       "    .dataframe tbody tr th:only-of-type {\n",
       "        vertical-align: middle;\n",
       "    }\n",
       "\n",
       "    .dataframe tbody tr th {\n",
       "        vertical-align: top;\n",
       "    }\n",
       "\n",
       "    .dataframe thead th {\n",
       "        text-align: right;\n",
       "    }\n",
       "</style>\n",
       "<table border=\"1\" class=\"dataframe\">\n",
       "  <thead>\n",
       "    <tr style=\"text-align: right;\">\n",
       "      <th></th>\n",
       "      <th>Elementary</th>\n",
       "      <th>Middle</th>\n",
       "      <th>High</th>\n",
       "      <th>All</th>\n",
       "      <th>Closed School</th>\n",
       "    </tr>\n",
       "  </thead>\n",
       "  <tbody>\n",
       "    <tr>\n",
       "      <th>0</th>\n",
       "      <td>4150</td>\n",
       "      <td>1847</td>\n",
       "      <td>2014</td>\n",
       "      <td>8011</td>\n",
       "      <td>28</td>\n",
       "    </tr>\n",
       "    <tr>\n",
       "      <th>1</th>\n",
       "      <td>4192</td>\n",
       "      <td>1863</td>\n",
       "      <td>1902</td>\n",
       "      <td>7957</td>\n",
       "      <td>26</td>\n",
       "    </tr>\n",
       "    <tr>\n",
       "      <th>2</th>\n",
       "      <td>4186</td>\n",
       "      <td>1913</td>\n",
       "      <td>1846</td>\n",
       "      <td>7945</td>\n",
       "      <td>10</td>\n",
       "    </tr>\n",
       "    <tr>\n",
       "      <th>3</th>\n",
       "      <td>4118</td>\n",
       "      <td>1993</td>\n",
       "      <td>1824</td>\n",
       "      <td>7935</td>\n",
       "      <td>16</td>\n",
       "    </tr>\n",
       "    <tr>\n",
       "      <th>4</th>\n",
       "      <td>4018</td>\n",
       "      <td>2064</td>\n",
       "      <td>1841</td>\n",
       "      <td>7923</td>\n",
       "      <td>21</td>\n",
       "    </tr>\n",
       "  </tbody>\n",
       "</table>\n",
       "</div>"
      ],
      "text/plain": [
       "   Elementary  Middle  High   All  Closed School\n",
       "0        4150    1847  2014  8011             28\n",
       "1        4192    1863  1902  7957             26\n",
       "2        4186    1913  1846  7945             10\n",
       "3        4118    1993  1824  7935             16\n",
       "4        4018    2064  1841  7923             21"
      ]
     },
     "execution_count": 10,
     "metadata": {},
     "output_type": "execute_result"
    }
   ],
   "source": [
    "corr_20012020.head()"
   ]
  },
  {
   "cell_type": "code",
   "execution_count": 11,
   "id": "407c5620",
   "metadata": {},
   "outputs": [],
   "source": [
    "corr_20012020.to_excel('./corr_20012020.xlsx')"
   ]
  },
  {
   "cell_type": "code",
   "execution_count": 12,
   "id": "0f4fb46c",
   "metadata": {},
   "outputs": [
    {
     "data": {
      "text/html": [
       "<div>\n",
       "<style scoped>\n",
       "    .dataframe tbody tr th:only-of-type {\n",
       "        vertical-align: middle;\n",
       "    }\n",
       "\n",
       "    .dataframe tbody tr th {\n",
       "        vertical-align: top;\n",
       "    }\n",
       "\n",
       "    .dataframe thead th {\n",
       "        text-align: right;\n",
       "    }\n",
       "</style>\n",
       "<table border=\"1\" class=\"dataframe\">\n",
       "  <thead>\n",
       "    <tr style=\"text-align: right;\">\n",
       "      <th></th>\n",
       "      <th>Elementary</th>\n",
       "      <th>Middle</th>\n",
       "      <th>High</th>\n",
       "      <th>All</th>\n",
       "      <th>Closed School</th>\n",
       "    </tr>\n",
       "  </thead>\n",
       "  <tbody>\n",
       "    <tr>\n",
       "      <th>Elementary</th>\n",
       "      <td>365868.450000</td>\n",
       "      <td>123361.344737</td>\n",
       "      <td>43807.455263</td>\n",
       "      <td>533037.250000</td>\n",
       "      <td>-3270.823684</td>\n",
       "    </tr>\n",
       "    <tr>\n",
       "      <th>Middle</th>\n",
       "      <td>123361.344737</td>\n",
       "      <td>77132.028947</td>\n",
       "      <td>43421.350000</td>\n",
       "      <td>243914.723684</td>\n",
       "      <td>-1112.086842</td>\n",
       "    </tr>\n",
       "    <tr>\n",
       "      <th>High</th>\n",
       "      <td>43807.455263</td>\n",
       "      <td>43421.350000</td>\n",
       "      <td>39953.313158</td>\n",
       "      <td>127182.118421</td>\n",
       "      <td>-203.576316</td>\n",
       "    </tr>\n",
       "    <tr>\n",
       "      <th>All</th>\n",
       "      <td>533037.250000</td>\n",
       "      <td>243914.723684</td>\n",
       "      <td>127182.118421</td>\n",
       "      <td>904134.092105</td>\n",
       "      <td>-4586.486842</td>\n",
       "    </tr>\n",
       "    <tr>\n",
       "      <th>Closed School</th>\n",
       "      <td>-3270.823684</td>\n",
       "      <td>-1112.086842</td>\n",
       "      <td>-203.576316</td>\n",
       "      <td>-4586.486842</td>\n",
       "      <td>98.260526</td>\n",
       "    </tr>\n",
       "  </tbody>\n",
       "</table>\n",
       "</div>"
      ],
      "text/plain": [
       "                  Elementary         Middle           High            All  \\\n",
       "Elementary     365868.450000  123361.344737   43807.455263  533037.250000   \n",
       "Middle         123361.344737   77132.028947   43421.350000  243914.723684   \n",
       "High            43807.455263   43421.350000   39953.313158  127182.118421   \n",
       "All            533037.250000  243914.723684  127182.118421  904134.092105   \n",
       "Closed School   -3270.823684   -1112.086842    -203.576316   -4586.486842   \n",
       "\n",
       "               Closed School  \n",
       "Elementary      -3270.823684  \n",
       "Middle          -1112.086842  \n",
       "High             -203.576316  \n",
       "All             -4586.486842  \n",
       "Closed School      98.260526  "
      ]
     },
     "execution_count": 12,
     "metadata": {},
     "output_type": "execute_result"
    }
   ],
   "source": [
    "#공분산 분석 (cov)\n",
    "corr_20012020.cov()"
   ]
  },
  {
   "cell_type": "code",
   "execution_count": null,
   "id": "ed72c245",
   "metadata": {},
   "outputs": [],
   "source": []
  },
  {
   "cell_type": "code",
   "execution_count": 13,
   "id": "8165d557",
   "metadata": {},
   "outputs": [],
   "source": [
    "#상관분석 실행 (corr)\n",
    "cor_reg_clo = corr_20012020.corr(method='pearson')"
   ]
  },
  {
   "cell_type": "code",
   "execution_count": 16,
   "id": "22c54ee7",
   "metadata": {},
   "outputs": [
    {
     "data": {
      "text/html": [
       "<div>\n",
       "<style scoped>\n",
       "    .dataframe tbody tr th:only-of-type {\n",
       "        vertical-align: middle;\n",
       "    }\n",
       "\n",
       "    .dataframe tbody tr th {\n",
       "        vertical-align: top;\n",
       "    }\n",
       "\n",
       "    .dataframe thead th {\n",
       "        text-align: right;\n",
       "    }\n",
       "</style>\n",
       "<table border=\"1\" class=\"dataframe\">\n",
       "  <thead>\n",
       "    <tr style=\"text-align: right;\">\n",
       "      <th></th>\n",
       "      <th>Elementary</th>\n",
       "      <th>Middle</th>\n",
       "      <th>High</th>\n",
       "      <th>All</th>\n",
       "      <th>Closed School</th>\n",
       "    </tr>\n",
       "  </thead>\n",
       "  <tbody>\n",
       "    <tr>\n",
       "      <th>Elementary</th>\n",
       "      <td>1.000000</td>\n",
       "      <td>0.909908</td>\n",
       "      <td>0.584110</td>\n",
       "      <td>0.973927</td>\n",
       "      <td>-0.990466</td>\n",
       "    </tr>\n",
       "    <tr>\n",
       "      <th>Middle</th>\n",
       "      <td>0.909908</td>\n",
       "      <td>1.000000</td>\n",
       "      <td>0.857488</td>\n",
       "      <td>0.979504</td>\n",
       "      <td>-0.954843</td>\n",
       "    </tr>\n",
       "    <tr>\n",
       "      <th>High</th>\n",
       "      <td>0.584110</td>\n",
       "      <td>0.857488</td>\n",
       "      <td>1.000000</td>\n",
       "      <td>0.751618</td>\n",
       "      <td>-0.684978</td>\n",
       "    </tr>\n",
       "    <tr>\n",
       "      <th>All</th>\n",
       "      <td>0.973927</td>\n",
       "      <td>0.979504</td>\n",
       "      <td>0.751618</td>\n",
       "      <td>1.000000</td>\n",
       "      <td>-0.994418</td>\n",
       "    </tr>\n",
       "    <tr>\n",
       "      <th>Closed School</th>\n",
       "      <td>-0.990466</td>\n",
       "      <td>-0.954843</td>\n",
       "      <td>-0.684978</td>\n",
       "      <td>-0.994418</td>\n",
       "      <td>1.000000</td>\n",
       "    </tr>\n",
       "  </tbody>\n",
       "</table>\n",
       "</div>"
      ],
      "text/plain": [
       "               Elementary    Middle      High       All  Closed School\n",
       "Elementary       1.000000  0.909908  0.584110  0.973927      -0.990466\n",
       "Middle           0.909908  1.000000  0.857488  0.979504      -0.954843\n",
       "High             0.584110  0.857488  1.000000  0.751618      -0.684978\n",
       "All              0.973927  0.979504  0.751618  1.000000      -0.994418\n",
       "Closed School   -0.990466 -0.954843 -0.684978 -0.994418       1.000000"
      ]
     },
     "execution_count": 16,
     "metadata": {},
     "output_type": "execute_result"
    }
   ],
   "source": [
    "cor_reg_clo.corr()"
   ]
  },
  {
   "cell_type": "markdown",
   "id": "3b886761",
   "metadata": {},
   "source": [
    "https://m.blog.naver.com/kiddwannabe/221763497317"
   ]
  },
  {
   "cell_type": "code",
   "execution_count": null,
   "id": "2f1b0383",
   "metadata": {},
   "outputs": [],
   "source": [
    "#상관분석 시각화(clustermap)\n",
    "sns.clustermap(corr, annot = True, cmap = 'RdYlBu_r', vmin = -1, vmax = 1)"
   ]
  },
  {
   "cell_type": "code",
   "execution_count": null,
   "id": "7e923084",
   "metadata": {},
   "outputs": [],
   "source": [
    "#상관분석 시각화(heatmap)\n",
    "plt.figure(figsize = (10, 10))\n",
    "\n",
    "sns.heatmap(corr, annot = True, cmap = 'RdYlBu_r', vmin = -1, vmax = 1)"
   ]
  },
  {
   "cell_type": "markdown",
   "id": "1a186a14",
   "metadata": {},
   "source": [
    "## 2011 ~ 2020 상관관계"
   ]
  },
  {
   "cell_type": "code",
   "execution_count": null,
   "id": "23a85761",
   "metadata": {},
   "outputs": [],
   "source": [
    "corr_20112020 = corr_20012020.iloc[10:]"
   ]
  },
  {
   "cell_type": "code",
   "execution_count": null,
   "id": "41747afd",
   "metadata": {},
   "outputs": [],
   "source": [
    "corr_20112020"
   ]
  },
  {
   "cell_type": "code",
   "execution_count": null,
   "id": "4d281cf5",
   "metadata": {},
   "outputs": [],
   "source": [
    "#상관분석 실행\n",
    "cor_reg_clo_2 = corr_20112020.corr(method='pearson')"
   ]
  },
  {
   "cell_type": "code",
   "execution_count": null,
   "id": "1d53043b",
   "metadata": {},
   "outputs": [],
   "source": [
    "corr_2 = cor_reg_clo_2.corr()"
   ]
  },
  {
   "cell_type": "code",
   "execution_count": null,
   "id": "5e5e32b8",
   "metadata": {},
   "outputs": [],
   "source": [
    "corr_2"
   ]
  },
  {
   "cell_type": "code",
   "execution_count": null,
   "id": "18c9a70b",
   "metadata": {},
   "outputs": [],
   "source": [
    "#상관분석 시각화(clustermap)\n",
    "sns.clustermap(corr_2, annot = True, cmap = 'RdYlBu_r', vmin = -1, vmax = 1)"
   ]
  },
  {
   "cell_type": "code",
   "execution_count": null,
   "id": "1be60cf1",
   "metadata": {},
   "outputs": [],
   "source": [
    "#상관분석 시각화(heatmap)_1\n",
    "plt.figure(figsize = (10, 10))\n",
    "\n",
    "sns.heatmap(corr_2, annot = True, cmap = 'RdYlBu_r', vmin = -1, vmax = 1)"
   ]
  },
  {
   "cell_type": "code",
   "execution_count": null,
   "id": "aae39a47",
   "metadata": {},
   "outputs": [],
   "source": []
  },
  {
   "cell_type": "code",
   "execution_count": null,
   "id": "fc88bf5b",
   "metadata": {},
   "outputs": [],
   "source": []
  },
  {
   "cell_type": "code",
   "execution_count": null,
   "id": "d1a2b473",
   "metadata": {},
   "outputs": [],
   "source": []
  }
 ],
 "metadata": {
  "kernelspec": {
   "display_name": "kword",
   "language": "python",
   "name": "kword"
  },
  "language_info": {
   "codemirror_mode": {
    "name": "ipython",
    "version": 3
   },
   "file_extension": ".py",
   "mimetype": "text/x-python",
   "name": "python",
   "nbconvert_exporter": "python",
   "pygments_lexer": "ipython3",
   "version": "3.9.7"
  }
 },
 "nbformat": 4,
 "nbformat_minor": 5
}
