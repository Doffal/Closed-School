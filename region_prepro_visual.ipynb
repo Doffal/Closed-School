{
 "cells": [
  {
   "cell_type": "code",
   "execution_count": 1,
   "id": "2de7aeb5",
   "metadata": {},
   "outputs": [],
   "source": [
    "import pandas as pd\n",
    "import numpy as np\n",
    "from matplotlib import pyplot as plt\n",
    "import os"
   ]
  },
  {
   "cell_type": "code",
   "execution_count": 2,
   "id": "bc8434c3",
   "metadata": {},
   "outputs": [],
   "source": [
    "from matplotlib import font_manager, rc\n",
    "import platform \n",
    "\n",
    "# 그래프에서 한글 표기를 위한,\n",
    "# 글자체 변경(윈도우, 맥os 각각의 경우에 대해서 처리)\n",
    "if platform.system() == 'Windows': \n",
    "    path = 'c:/Windows/Fonts/malgun.ttf'\n",
    "    font_name = font_manager.FontProperties(fname=path).get_name()\n",
    "    rc('font', family=font_name)"
   ]
  },
  {
   "cell_type": "code",
   "execution_count": 4,
   "id": "58125f49",
   "metadata": {},
   "outputs": [],
   "source": [
    "#각 지역마다 필요한 열만 추출 -> 간단하게 코드 작성\n",
    "\n",
    "path = './Close_School/'\n",
    "files = os.listdir(path)\n",
    "\n",
    "cs = pd.DataFrame()\n",
    "\n",
    "for file in files:\n",
    "    data = pd.read_excel(path + file)\n",
    "    cs = pd.concat([cs,data])\n",
    "    \n",
    "cs_total = cs.reset_index(drop = True)"
   ]
  },
  {
   "cell_type": "code",
   "execution_count": 5,
   "id": "73b23b84",
   "metadata": {},
   "outputs": [
    {
     "data": {
      "text/plain": [
       "시도교육청     0\n",
       "폐교명       0\n",
       "폐교년도      0\n",
       "지역교육청    40\n",
       "급별        1\n",
       "활용현황      0\n",
       "주소        0\n",
       "dtype: int64"
      ]
     },
     "execution_count": 5,
     "metadata": {},
     "output_type": "execute_result"
    }
   ],
   "source": [
    "#결측값 확인\n",
    "cs_total.isna().sum()"
   ]
  },
  {
   "cell_type": "code",
   "execution_count": 6,
   "id": "feaf59ca",
   "metadata": {},
   "outputs": [
    {
     "data": {
      "text/plain": [
       "array(['중', '초', '고', nan, '증'], dtype=object)"
      ]
     },
     "execution_count": 6,
     "metadata": {},
     "output_type": "execute_result"
    }
   ],
   "source": [
    "#필요한 컬럼 결측치 확인\n",
    "cs_total['급별'].unique()"
   ]
  },
  {
   "cell_type": "code",
   "execution_count": 7,
   "id": "1ba1f3bd",
   "metadata": {},
   "outputs": [],
   "source": [
    "cs_total['급별'] = cs_total['급별'].replace('증','중')"
   ]
  },
  {
   "cell_type": "code",
   "execution_count": 8,
   "id": "951ae8a1",
   "metadata": {},
   "outputs": [
    {
     "data": {
      "text/plain": [
       "array(['중', '초', '고', nan], dtype=object)"
      ]
     },
     "execution_count": 8,
     "metadata": {},
     "output_type": "execute_result"
    }
   ],
   "source": [
    "cs_total['급별'].unique()"
   ]
  },
  {
   "cell_type": "code",
   "execution_count": 17,
   "id": "ca9248b9",
   "metadata": {},
   "outputs": [],
   "source": [
    "#nan 결측치 대체 (str.contains)\n",
    "\n",
    "for i in range(len(cs_total)):\n",
    "    if cs_total['급별'].isna()[i] == True:\n",
    "        \n",
    "        if cs_total['폐교명'].str.contains('초등학교')[i] == True:\n",
    "            cs_total['급별'][i] == '초'\n",
    "            \n",
    "        elif cs_total['폐교명'].str.contains('중학교')[i] == True:\n",
    "            cs_total['급별'][i] == '중'\n",
    "            \n",
    "        else:\n",
    "            cs_total['급별'][i] == '고'"
   ]
  },
  {
   "cell_type": "code",
   "execution_count": null,
   "id": "d06085f3",
   "metadata": {},
   "outputs": [],
   "source": [
    "#nan 결측치 대체 (find)\n",
    "\n",
    "for i in range(len(cs_total)):\n",
    "    if cs_total['급별'].isna()[i] == True:\n",
    "        \n",
    "        if cs_total['폐교명'][i].find('초'):\n",
    "            cs_total['급별'][i] == '초'\n",
    "            \n",
    "        elif cs_total['폐교명'][i].find('중'):\n",
    "            cs_total['급별'][i] == '중'\n",
    "            \n",
    "        else:\n",
    "            cs_total['급별'][i] == '고'"
   ]
  },
  {
   "cell_type": "code",
   "execution_count": 14,
   "id": "62929f75",
   "metadata": {},
   "outputs": [],
   "source": [
    "#필요 데이터만 추출\n",
    "cs_close = (cs_total[\"폐교년도\"] >= 2001) & (cs_total[\"폐교년도\"] <= 2020)\n",
    "cs_totals = cs_total[cs_close]\n",
    "cs_totals = cs_totals[['시도교육청', '폐교년도', '급별']]"
   ]
  },
  {
   "cell_type": "code",
   "execution_count": 15,
   "id": "7fadae4d",
   "metadata": {},
   "outputs": [
    {
     "data": {
      "text/html": [
       "<div>\n",
       "<style scoped>\n",
       "    .dataframe tbody tr th:only-of-type {\n",
       "        vertical-align: middle;\n",
       "    }\n",
       "\n",
       "    .dataframe tbody tr th {\n",
       "        vertical-align: top;\n",
       "    }\n",
       "\n",
       "    .dataframe thead th {\n",
       "        text-align: right;\n",
       "    }\n",
       "</style>\n",
       "<table border=\"1\" class=\"dataframe\">\n",
       "  <thead>\n",
       "    <tr style=\"text-align: right;\">\n",
       "      <th></th>\n",
       "      <th>시도교육청</th>\n",
       "      <th>폐교년도</th>\n",
       "      <th>급별</th>\n",
       "    </tr>\n",
       "  </thead>\n",
       "  <tbody>\n",
       "    <tr>\n",
       "      <th>0</th>\n",
       "      <td>부산</td>\n",
       "      <td>2009</td>\n",
       "      <td>중</td>\n",
       "    </tr>\n",
       "    <tr>\n",
       "      <th>1</th>\n",
       "      <td>부산</td>\n",
       "      <td>2007</td>\n",
       "      <td>초</td>\n",
       "    </tr>\n",
       "    <tr>\n",
       "      <th>2</th>\n",
       "      <td>부산</td>\n",
       "      <td>2010</td>\n",
       "      <td>고</td>\n",
       "    </tr>\n",
       "    <tr>\n",
       "      <th>3</th>\n",
       "      <td>부산</td>\n",
       "      <td>2016</td>\n",
       "      <td>초</td>\n",
       "    </tr>\n",
       "    <tr>\n",
       "      <th>4</th>\n",
       "      <td>부산</td>\n",
       "      <td>2020</td>\n",
       "      <td>중</td>\n",
       "    </tr>\n",
       "    <tr>\n",
       "      <th>...</th>\n",
       "      <td>...</td>\n",
       "      <td>...</td>\n",
       "      <td>...</td>\n",
       "    </tr>\n",
       "    <tr>\n",
       "      <th>1349</th>\n",
       "      <td>울산</td>\n",
       "      <td>2016</td>\n",
       "      <td>초</td>\n",
       "    </tr>\n",
       "    <tr>\n",
       "      <th>1350</th>\n",
       "      <td>울산</td>\n",
       "      <td>2016</td>\n",
       "      <td>초</td>\n",
       "    </tr>\n",
       "    <tr>\n",
       "      <th>1358</th>\n",
       "      <td>울산</td>\n",
       "      <td>2012</td>\n",
       "      <td>초</td>\n",
       "    </tr>\n",
       "    <tr>\n",
       "      <th>1362</th>\n",
       "      <td>울산</td>\n",
       "      <td>2016</td>\n",
       "      <td>초</td>\n",
       "    </tr>\n",
       "    <tr>\n",
       "      <th>1363</th>\n",
       "      <td>울산</td>\n",
       "      <td>2020</td>\n",
       "      <td>초</td>\n",
       "    </tr>\n",
       "  </tbody>\n",
       "</table>\n",
       "<p>591 rows × 3 columns</p>\n",
       "</div>"
      ],
      "text/plain": [
       "     시도교육청  폐교년도 급별\n",
       "0       부산  2009  중\n",
       "1       부산  2007  초\n",
       "2       부산  2010  고\n",
       "3       부산  2016  초\n",
       "4       부산  2020  중\n",
       "...    ...   ... ..\n",
       "1349    울산  2016  초\n",
       "1350    울산  2016  초\n",
       "1358    울산  2012  초\n",
       "1362    울산  2016  초\n",
       "1363    울산  2020  초\n",
       "\n",
       "[591 rows x 3 columns]"
      ]
     },
     "execution_count": 15,
     "metadata": {},
     "output_type": "execute_result"
    }
   ],
   "source": [
    "#필요한 컬럼만 둔 DataFrame\n",
    "cs_totals"
   ]
  },
  {
   "cell_type": "code",
   "execution_count": 16,
   "id": "9973c7ea",
   "metadata": {},
   "outputs": [],
   "source": [
    "cs_totals[\"폐교년도\"] = cs_totals[\"폐교년도\"].astype(\"str\")"
   ]
  },
  {
   "cell_type": "code",
   "execution_count": 18,
   "id": "3846be4f",
   "metadata": {},
   "outputs": [
    {
     "name": "stdout",
     "output_type": "stream",
     "text": [
      "<class 'pandas.core.frame.DataFrame'>\n",
      "Int64Index: 591 entries, 0 to 1363\n",
      "Data columns (total 3 columns):\n",
      " #   Column  Non-Null Count  Dtype \n",
      "---  ------  --------------  ----- \n",
      " 0   시도교육청   591 non-null    object\n",
      " 1   폐교년도    591 non-null    object\n",
      " 2   급별      590 non-null    object\n",
      "dtypes: object(3)\n",
      "memory usage: 18.5+ KB\n"
     ]
    }
   ],
   "source": [
    "cs_totals.info()"
   ]
  },
  {
   "cell_type": "code",
   "execution_count": 22,
   "id": "cbc89ec8",
   "metadata": {},
   "outputs": [],
   "source": [
    "cs_all = cs_totals.drop(['급별'], axis = 'columns')"
   ]
  },
  {
   "cell_type": "code",
   "execution_count": 23,
   "id": "e370afda",
   "metadata": {},
   "outputs": [
    {
     "data": {
      "text/html": [
       "<div>\n",
       "<style scoped>\n",
       "    .dataframe tbody tr th:only-of-type {\n",
       "        vertical-align: middle;\n",
       "    }\n",
       "\n",
       "    .dataframe tbody tr th {\n",
       "        vertical-align: top;\n",
       "    }\n",
       "\n",
       "    .dataframe thead th {\n",
       "        text-align: right;\n",
       "    }\n",
       "</style>\n",
       "<table border=\"1\" class=\"dataframe\">\n",
       "  <thead>\n",
       "    <tr style=\"text-align: right;\">\n",
       "      <th></th>\n",
       "      <th>시도교육청</th>\n",
       "      <th>폐교년도</th>\n",
       "    </tr>\n",
       "  </thead>\n",
       "  <tbody>\n",
       "    <tr>\n",
       "      <th>0</th>\n",
       "      <td>부산</td>\n",
       "      <td>2009</td>\n",
       "    </tr>\n",
       "    <tr>\n",
       "      <th>1</th>\n",
       "      <td>부산</td>\n",
       "      <td>2007</td>\n",
       "    </tr>\n",
       "    <tr>\n",
       "      <th>2</th>\n",
       "      <td>부산</td>\n",
       "      <td>2010</td>\n",
       "    </tr>\n",
       "    <tr>\n",
       "      <th>3</th>\n",
       "      <td>부산</td>\n",
       "      <td>2016</td>\n",
       "    </tr>\n",
       "    <tr>\n",
       "      <th>4</th>\n",
       "      <td>부산</td>\n",
       "      <td>2020</td>\n",
       "    </tr>\n",
       "    <tr>\n",
       "      <th>...</th>\n",
       "      <td>...</td>\n",
       "      <td>...</td>\n",
       "    </tr>\n",
       "    <tr>\n",
       "      <th>1349</th>\n",
       "      <td>울산</td>\n",
       "      <td>2016</td>\n",
       "    </tr>\n",
       "    <tr>\n",
       "      <th>1350</th>\n",
       "      <td>울산</td>\n",
       "      <td>2016</td>\n",
       "    </tr>\n",
       "    <tr>\n",
       "      <th>1358</th>\n",
       "      <td>울산</td>\n",
       "      <td>2012</td>\n",
       "    </tr>\n",
       "    <tr>\n",
       "      <th>1362</th>\n",
       "      <td>울산</td>\n",
       "      <td>2016</td>\n",
       "    </tr>\n",
       "    <tr>\n",
       "      <th>1363</th>\n",
       "      <td>울산</td>\n",
       "      <td>2020</td>\n",
       "    </tr>\n",
       "  </tbody>\n",
       "</table>\n",
       "<p>591 rows × 2 columns</p>\n",
       "</div>"
      ],
      "text/plain": [
       "     시도교육청  폐교년도\n",
       "0       부산  2009\n",
       "1       부산  2007\n",
       "2       부산  2010\n",
       "3       부산  2016\n",
       "4       부산  2020\n",
       "...    ...   ...\n",
       "1349    울산  2016\n",
       "1350    울산  2016\n",
       "1358    울산  2012\n",
       "1362    울산  2016\n",
       "1363    울산  2020\n",
       "\n",
       "[591 rows x 2 columns]"
      ]
     },
     "execution_count": 23,
     "metadata": {},
     "output_type": "execute_result"
    }
   ],
   "source": [
    "cs_all"
   ]
  },
  {
   "cell_type": "code",
   "execution_count": 25,
   "id": "a3d04bd1",
   "metadata": {},
   "outputs": [],
   "source": [
    "cs_all = cs_all.groupby(('폐교년도'),  as_index =False).count()"
   ]
  },
  {
   "cell_type": "code",
   "execution_count": 26,
   "id": "3e25e268",
   "metadata": {},
   "outputs": [
    {
     "data": {
      "text/html": [
       "<div>\n",
       "<style scoped>\n",
       "    .dataframe tbody tr th:only-of-type {\n",
       "        vertical-align: middle;\n",
       "    }\n",
       "\n",
       "    .dataframe tbody tr th {\n",
       "        vertical-align: top;\n",
       "    }\n",
       "\n",
       "    .dataframe thead th {\n",
       "        text-align: right;\n",
       "    }\n",
       "</style>\n",
       "<table border=\"1\" class=\"dataframe\">\n",
       "  <thead>\n",
       "    <tr style=\"text-align: right;\">\n",
       "      <th></th>\n",
       "      <th>폐교년도</th>\n",
       "      <th>시도교육청</th>\n",
       "    </tr>\n",
       "  </thead>\n",
       "  <tbody>\n",
       "    <tr>\n",
       "      <th>0</th>\n",
       "      <td>2001</td>\n",
       "      <td>28</td>\n",
       "    </tr>\n",
       "    <tr>\n",
       "      <th>1</th>\n",
       "      <td>2002</td>\n",
       "      <td>26</td>\n",
       "    </tr>\n",
       "    <tr>\n",
       "      <th>2</th>\n",
       "      <td>2003</td>\n",
       "      <td>10</td>\n",
       "    </tr>\n",
       "    <tr>\n",
       "      <th>3</th>\n",
       "      <td>2004</td>\n",
       "      <td>16</td>\n",
       "    </tr>\n",
       "    <tr>\n",
       "      <th>4</th>\n",
       "      <td>2005</td>\n",
       "      <td>21</td>\n",
       "    </tr>\n",
       "    <tr>\n",
       "      <th>5</th>\n",
       "      <td>2006</td>\n",
       "      <td>11</td>\n",
       "    </tr>\n",
       "    <tr>\n",
       "      <th>6</th>\n",
       "      <td>2007</td>\n",
       "      <td>40</td>\n",
       "    </tr>\n",
       "    <tr>\n",
       "      <th>7</th>\n",
       "      <td>2008</td>\n",
       "      <td>36</td>\n",
       "    </tr>\n",
       "    <tr>\n",
       "      <th>8</th>\n",
       "      <td>2009</td>\n",
       "      <td>42</td>\n",
       "    </tr>\n",
       "    <tr>\n",
       "      <th>9</th>\n",
       "      <td>2010</td>\n",
       "      <td>28</td>\n",
       "    </tr>\n",
       "    <tr>\n",
       "      <th>10</th>\n",
       "      <td>2011</td>\n",
       "      <td>26</td>\n",
       "    </tr>\n",
       "    <tr>\n",
       "      <th>11</th>\n",
       "      <td>2012</td>\n",
       "      <td>36</td>\n",
       "    </tr>\n",
       "    <tr>\n",
       "      <th>12</th>\n",
       "      <td>2013</td>\n",
       "      <td>33</td>\n",
       "    </tr>\n",
       "    <tr>\n",
       "      <th>13</th>\n",
       "      <td>2014</td>\n",
       "      <td>25</td>\n",
       "    </tr>\n",
       "    <tr>\n",
       "      <th>14</th>\n",
       "      <td>2015</td>\n",
       "      <td>29</td>\n",
       "    </tr>\n",
       "    <tr>\n",
       "      <th>15</th>\n",
       "      <td>2016</td>\n",
       "      <td>30</td>\n",
       "    </tr>\n",
       "    <tr>\n",
       "      <th>16</th>\n",
       "      <td>2017</td>\n",
       "      <td>46</td>\n",
       "    </tr>\n",
       "    <tr>\n",
       "      <th>17</th>\n",
       "      <td>2018</td>\n",
       "      <td>38</td>\n",
       "    </tr>\n",
       "    <tr>\n",
       "      <th>18</th>\n",
       "      <td>2019</td>\n",
       "      <td>41</td>\n",
       "    </tr>\n",
       "    <tr>\n",
       "      <th>19</th>\n",
       "      <td>2020</td>\n",
       "      <td>29</td>\n",
       "    </tr>\n",
       "  </tbody>\n",
       "</table>\n",
       "</div>"
      ],
      "text/plain": [
       "    폐교년도  시도교육청\n",
       "0   2001     28\n",
       "1   2002     26\n",
       "2   2003     10\n",
       "3   2004     16\n",
       "4   2005     21\n",
       "5   2006     11\n",
       "6   2007     40\n",
       "7   2008     36\n",
       "8   2009     42\n",
       "9   2010     28\n",
       "10  2011     26\n",
       "11  2012     36\n",
       "12  2013     33\n",
       "13  2014     25\n",
       "14  2015     29\n",
       "15  2016     30\n",
       "16  2017     46\n",
       "17  2018     38\n",
       "18  2019     41\n",
       "19  2020     29"
      ]
     },
     "execution_count": 26,
     "metadata": {},
     "output_type": "execute_result"
    }
   ],
   "source": [
    "cs_all"
   ]
  },
  {
   "cell_type": "code",
   "execution_count": 27,
   "id": "340fe08b",
   "metadata": {},
   "outputs": [],
   "source": [
    "#시각화 \n",
    "cs_all= cs_all.rename(columns = {'시도교육청':'폐교 수'})"
   ]
  },
  {
   "cell_type": "code",
   "execution_count": 29,
   "id": "7f9aea36",
   "metadata": {},
   "outputs": [
    {
     "data": {
      "image/png": "[encoded data removed]",
      "text/plain": [
       "<Figure size 1440x720 with 1 Axes>"
      ]
     },
     "metadata": {
      "needs_background": "light"
     },
     "output_type": "display_data"
    }
   ],
   "source": [
    "#시계열그래프 시각화_1\n",
    "\n",
    "cs_all.plot(figsize = (20, 10), kind = 'line', x ='폐교년도', y ='폐교 수', color ='orange')\n",
    "\n",
    "plt.show()"
   ]
  },
  {
   "cell_type": "code",
   "execution_count": 31,
   "id": "83a7dd68",
   "metadata": {},
   "outputs": [
    {
     "data": {
      "image/png": "[encoded data removed]",
      "text/plain": [
       "<Figure size 2160x1080 with 1 Axes>"
      ]
     },
     "metadata": {
      "needs_background": "light"
     },
     "output_type": "display_data"
    },
    {
     "data": {
      "text/plain": [
       "<Figure size 432x288 with 0 Axes>"
      ]
     },
     "metadata": {},
     "output_type": "display_data"
    }
   ],
   "source": [
    "#시계열그래프 시각화_2\n",
    "\n",
    "#그래프 크기\n",
    "plt.figure(figsize = (30, 15))\n",
    "\n",
    "#그래프 x 및 y행에 대한 데이터 지정\n",
    "plt.plot(cs_all['폐교년도'], cs_all['폐교 수'], color = 'orange', label='Closed School')\n",
    "\n",
    "#parameters = {'axes.labelsize' :50, 'axes.titlesize' :15}\n",
    "#plt.rcParams.update(parameters)\n",
    "\n",
    "#parameters = {'xtick.labelsize' :20, 'ytick.labelsize' :20}\n",
    "#plt.rcParams.update(parameters)\n",
    "\n",
    "#x 눈금레이블 크기\n",
    "plt.xticks(fontsize = 20)\n",
    "\n",
    "#y 눈금레이블 크기\n",
    "plt.yticks(fontsize = 20)\n",
    "\n",
    "#x레이블 제목 크기 \n",
    "plt.xlabel('year', fontsize = 30)\n",
    "\n",
    "#y레이블 제목 크기\n",
    "plt.ylabel('count', fontsize = 30)\n",
    "\n",
    "#그림 제목 크기\n",
    "plt.title('Closed School', fontsize = 30)\n",
    "\n",
    "#범례위치 및 크기 지정\n",
    "plt.legend(loc = 'upper left', fontsize = 15)\n",
    "\n",
    "plt.show()\n",
    "\n",
    "plt.savefig('close_school_all.png')"
   ]
  },
  {
   "cell_type": "code",
   "execution_count": null,
   "id": "30fbf0c3",
   "metadata": {},
   "outputs": [],
   "source": []
  }
 ],
 "metadata": {
  "kernelspec": {
   "display_name": "kword",
   "language": "python",
   "name": "kword"
  },
  "language_info": {
   "codemirror_mode": {
    "name": "ipython",
    "version": 3
   },
   "file_extension": ".py",
   "mimetype": "text/x-python",
   "name": "python",
   "nbconvert_exporter": "python",
   "pygments_lexer": "ipython3",
   "version": "3.9.7"
  }
 },
 "nbformat": 4,
 "nbformat_minor": 5
}
